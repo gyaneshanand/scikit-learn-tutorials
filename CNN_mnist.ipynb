{
  "nbformat": 4,
  "nbformat_minor": 0,
  "metadata": {
    "colab": {
      "name": "CNN_mnist.ipynb",
      "version": "0.3.2",
      "provenance": [],
      "include_colab_link": true
    },
    "kernelspec": {
      "name": "python3",
      "display_name": "Python 3"
    }
  },
  "cells": [
    {
      "cell_type": "markdown",
      "metadata": {
        "id": "view-in-github",
        "colab_type": "text"
      },
      "source": [
        "<a href=\"https://colab.research.google.com/github/gyaneshanand/scikit-learn-tutorials/blob/master/CNN_mnist.ipynb\" target=\"_parent\"><img src=\"https://colab.research.google.com/assets/colab-badge.svg\" alt=\"Open In Colab\"/></a>"
      ]
    },
    {
      "metadata": {
        "id": "V_kNz4OENJai",
        "colab_type": "text"
      },
      "cell_type": "markdown",
      "source": [
        "# MNIST Classification using CNN"
      ]
    },
    {
      "metadata": {
        "id": "kHRtjbViNHXW",
        "colab_type": "code",
        "colab": {}
      },
      "cell_type": "code",
      "source": [
        "import torch\n",
        "import torch.nn as nn\n",
        "import torch.nn.functional as F\n",
        "import torchvision\n",
        "import torchvision.transforms as transforms\n",
        "from torchvision import datasets\n",
        "import matplotlib.pyplot as plt\n",
        "import numpy as np\n",
        "%matplotlib inline"
      ],
      "execution_count": 0,
      "outputs": []
    },
    {
      "metadata": {
        "id": "unz00eiONcDd",
        "colab_type": "text"
      },
      "cell_type": "markdown",
      "source": [
        "## Data Loader"
      ]
    },
    {
      "metadata": {
        "id": "uVp-LzReNn15",
        "colab_type": "text"
      },
      "cell_type": "markdown",
      "source": [
        "Train Loader"
      ]
    },
    {
      "metadata": {
        "id": "NM6lJHM8N9wF",
        "colab_type": "code",
        "colab": {}
      },
      "cell_type": "code",
      "source": [
        "BATCH_SIZE = 100"
      ],
      "execution_count": 0,
      "outputs": []
    },
    {
      "metadata": {
        "id": "aumORTpCNfdx",
        "colab_type": "code",
        "colab": {}
      },
      "cell_type": "code",
      "source": [
        "train_set = datasets.MNIST('./mnist_data', train=True, download=True,transform=transforms.Compose([transforms.ToTensor(),\n",
        "            transforms.Normalize((0.1307,), (0.3081,))]))\n",
        "train_loader = torch.utils.data.DataLoader(train_set , batch_size=BATCH_SIZE , shuffle=True, num_workers=2)"
      ],
      "execution_count": 0,
      "outputs": []
    },
    {
      "metadata": {
        "id": "ZXB2jPpGNwrr",
        "colab_type": "text"
      },
      "cell_type": "markdown",
      "source": [
        "Test Set"
      ]
    },
    {
      "metadata": {
        "id": "IyDtQJqaNy-9",
        "colab_type": "code",
        "colab": {}
      },
      "cell_type": "code",
      "source": [
        "test_set = datasets.MNIST('./mnist_data', train=False, download=True,transform=transforms.Compose([transforms.ToTensor(),\n",
        "            transforms.Normalize((0.1307,), (0.3081,))]))\n",
        "test_loader = torch.utils.data.DataLoader(test_set , batch_size=BATCH_SIZE , shuffle=False, num_workers=2)"
      ],
      "execution_count": 0,
      "outputs": []
    },
    {
      "metadata": {
        "id": "d1Q4CC1zOOiA",
        "colab_type": "text"
      },
      "cell_type": "markdown",
      "source": [
        "## Dataset Visualization"
      ]
    },
    {
      "metadata": {
        "colab_type": "code",
        "outputId": "54be283c-c2ac-401b-d329-fe24e778dc3b",
        "id": "oKvIvSmdQ0S1",
        "colab": {
          "base_uri": "https://localhost:8080/",
          "height": 403
        }
      },
      "cell_type": "code",
      "source": [
        "dataiter = iter(train_loader)\n",
        "images, labels = dataiter.next()\n",
        "\n",
        "print('Labels: ', labels)\n",
        "print('Batch shape: ', images.size())\n",
        "\n",
        "im = torchvision.utils.make_grid(images)\n",
        "plt.imshow(np.transpose(im.numpy(), (1, 2, 0)))"
      ],
      "execution_count": 0,
      "outputs": [
        {
          "output_type": "stream",
          "text": [
            "Clipping input data to the valid range for imshow with RGB data ([0..1] for floats or [0..255] for integers).\n"
          ],
          "name": "stderr"
        },
        {
          "output_type": "stream",
          "text": [
            "Labels:  tensor([0, 1, 7, 0, 4, 8, 0, 2, 4, 1, 2, 2, 2, 1, 7, 4, 4, 2, 5, 7, 1, 8, 6, 1,\n",
            "        6, 5, 6, 7, 8, 1, 3, 5, 8, 2, 4, 2, 0, 4, 0, 1, 8, 7, 7, 5, 8, 5, 6, 2,\n",
            "        5, 6, 2, 7, 1, 1, 9, 2, 7, 9, 6, 9, 4, 8, 3, 4, 3, 6, 4, 5, 9, 5, 7, 0,\n",
            "        5, 5, 5, 0, 3, 2, 8, 9, 7, 6, 2, 7, 9, 0, 3, 8, 9, 5, 0, 9, 8, 3, 1, 4,\n",
            "        5, 2, 1, 6])\n",
            "Batch shape:  torch.Size([100, 1, 28, 28])\n"
          ],
          "name": "stdout"
        },
        {
          "output_type": "execute_result",
          "data": {
            "text/plain": [
              "<matplotlib.image.AxesImage at 0x7f1ca4c15588>"
            ]
          },
          "metadata": {
            "tags": []
          },
          "execution_count": 11
        },
        {
          "output_type": "display_data",
          "data": {
            "image/png": "[encoded data removed]",
            "text/plain": [
              "<Figure size 432x288 with 1 Axes>"
            ]
          },
          "metadata": {
            "tags": []
          }
        }
      ]
    },
    {
      "metadata": {
        "id": "aT9qcw-9St31",
        "colab_type": "text"
      },
      "cell_type": "markdown",
      "source": [
        "## Model"
      ]
    },
    {
      "metadata": {
        "id": "TxakmI9GSwpL",
        "colab_type": "code",
        "colab": {}
      },
      "cell_type": "code",
      "source": [
        "class Model(nn.Module):\n",
        "    \n",
        "    def __init__(self):\n",
        "        super(Model,self).__init__()\n",
        "        self.conv1 = nn.Conv2d(1,6,kernel_size=5)\n",
        "        self.maxpool1 = nn.MaxPool2d(kernel_size=2,stride=2)\n",
        "        self.conv2 = nn.Conv2d(6,10,kernel_size=5)\n",
        "        self.maxpool2 = nn.MaxPool2d(kernel_size=2,stride=2)\n",
        "        self.fc1 = nn.Linear(160,100)\n",
        "        self.fc2 = nn.Linear(100,10)\n",
        "        \n",
        "    def forward(self,x):\n",
        "        x = F.relu(self.conv1(x))\n",
        "        x = self.maxpool1(x)\n",
        "        x = F.relu(self.conv2(x))\n",
        "        x = self.maxpool1(x)\n",
        "        x = x.view(-1,160)\n",
        "        x = F.relu(self.fc1(x))\n",
        "        out = self.fc2(x)\n",
        "        return out     "
      ],
      "execution_count": 0,
      "outputs": []
    },
    {
      "metadata": {
        "id": "YT7w0YtnbP5-",
        "colab_type": "code",
        "colab": {}
      },
      "cell_type": "code",
      "source": [
        "model = Model()"
      ],
      "execution_count": 0,
      "outputs": []
    },
    {
      "metadata": {
        "id": "XnQctEmSbgfD",
        "colab_type": "text"
      },
      "cell_type": "markdown",
      "source": [
        "## Loss & Optimizer"
      ]
    },
    {
      "metadata": {
        "id": "UUr3sQvtblBj",
        "colab_type": "code",
        "colab": {}
      },
      "cell_type": "code",
      "source": [
        "criterion = nn.CrossEntropyLoss()\n",
        "optimizer = torch.optim.Adam(model.parameters(),lr = 0.001)"
      ],
      "execution_count": 0,
      "outputs": []
    },
    {
      "metadata": {
        "id": "38V8EbOxcLxe",
        "colab_type": "text"
      },
      "cell_type": "markdown",
      "source": [
        "## Training the Model"
      ]
    },
    {
      "metadata": {
        "id": "I9nJ1XbzcOGL",
        "colab_type": "code",
        "colab": {
          "base_uri": "https://localhost:8080/",
          "height": 1697
        },
        "outputId": "a253fd6b-2542-4bc4-d528-d934c045e099"
      },
      "cell_type": "code",
      "source": [
        "for epoch in range(100):\n",
        "    for i, data in enumerate(train_loader):\n",
        "        inputs , labels = data\n",
        "        \n",
        "        outputs = model(inputs)\n",
        "        loss = criterion(outputs,labels)\n",
        "\n",
        "        optimizer.zero_grad()\n",
        "\n",
        "        loss.backward()\n",
        "        optimizer.step()\n",
        "    print(epoch,loss.data)"
      ],
      "execution_count": 23,
      "outputs": [
        {
          "output_type": "stream",
          "text": [
            "0 tensor(0.1676)\n",
            "1 tensor(0.0712)\n",
            "2 tensor(0.0551)\n",
            "3 tensor(0.0340)\n",
            "4 tensor(0.0953)\n",
            "5 tensor(0.0809)\n",
            "6 tensor(0.0783)\n",
            "7 tensor(0.0019)\n",
            "8 tensor(0.0076)\n",
            "9 tensor(0.0038)\n",
            "10 tensor(0.0014)\n",
            "11 tensor(0.0331)\n",
            "12 tensor(0.0176)\n",
            "13 tensor(0.0080)\n",
            "14 tensor(0.0429)\n",
            "15 tensor(0.0431)\n",
            "16 tensor(0.0309)\n",
            "17 tensor(0.0073)\n",
            "18 tensor(0.0014)\n",
            "19 tensor(0.0027)\n",
            "20 tensor(0.0143)\n",
            "21 tensor(0.0012)\n",
            "22 tensor(0.0002)\n",
            "23 tensor(0.0014)\n",
            "24 tensor(0.0334)\n",
            "25 tensor(0.0002)\n",
            "26 tensor(0.0222)\n",
            "27 tensor(0.0081)\n",
            "28 tensor(0.0085)\n",
            "29 tensor(6.5298e-05)\n",
            "30 tensor(2.1420e-05)\n",
            "31 tensor(0.0012)\n",
            "32 tensor(3.0994e-06)\n",
            "33 tensor(0.0006)\n",
            "34 tensor(0.0017)\n",
            "35 tensor(0.0005)\n",
            "36 tensor(3.1900e-05)\n",
            "37 tensor(0.0236)\n",
            "38 tensor(0.0439)\n",
            "39 tensor(7.4387e-07)\n",
            "40 tensor(1.6937e-05)\n",
            "41 tensor(0.0020)\n",
            "42 tensor(0.0002)\n",
            "43 tensor(0.0196)\n",
            "44 tensor(8.4648e-05)\n",
            "45 tensor(0.0086)\n",
            "46 tensor(0.0041)\n",
            "47 tensor(0.0028)\n",
            "48 tensor(2.2869e-05)\n",
            "49 tensor(0.0017)\n",
            "50 tensor(0.0001)\n",
            "51 tensor(0.0003)\n",
            "52 tensor(0.0082)\n",
            "53 tensor(0.0008)\n",
            "54 tensor(0.0042)\n",
            "55 tensor(0.0329)\n",
            "56 tensor(0.0004)\n",
            "57 tensor(0.0015)\n",
            "58 tensor(2.0599e-05)\n",
            "59 tensor(0.0090)\n",
            "60 tensor(1.1625e-05)\n",
            "61 tensor(8.6746e-05)\n",
            "62 tensor(5.3406e-07)\n",
            "63 tensor(0.0007)\n",
            "64 tensor(2.0590e-05)\n",
            "65 tensor(0.0004)\n",
            "66 tensor(0.0013)\n",
            "67 tensor(2.8148e-05)\n",
            "68 tensor(5.5428e-05)\n",
            "69 tensor(9.5367e-08)\n",
            "70 tensor(8.4028e-05)\n",
            "71 tensor(1.4534e-05)\n",
            "72 tensor(5.0592e-05)\n",
            "73 tensor(0.0003)\n",
            "74 tensor(0.0028)\n",
            "75 tensor(9.7179e-06)\n",
            "76 tensor(7.7724e-06)\n",
            "77 tensor(0.0725)\n",
            "78 tensor(0.0239)\n",
            "79 tensor(9.5940e-06)\n",
            "80 tensor(0.0002)\n",
            "81 tensor(0.0008)\n",
            "82 tensor(9.3460e-07)\n",
            "83 tensor(0.0002)\n",
            "84 tensor(4.0436e-06)\n",
            "85 tensor(0.0353)\n",
            "86 tensor(5.4741e-06)\n",
            "87 tensor(1.9951e-05)\n",
            "88 tensor(0.0029)\n",
            "89 tensor(0.0151)\n",
            "90 tensor(0.0008)\n",
            "91 tensor(0.0004)\n",
            "92 tensor(2.3079e-06)\n",
            "93 tensor(4.0531e-07)\n",
            "94 tensor(1.4830e-06)\n",
            "95 tensor(6.3896e-07)\n",
            "96 tensor(2.4796e-07)\n",
            "97 tensor(1.5450e-06)\n",
            "98 tensor(0.0008)\n",
            "99 tensor(0.0220)\n"
          ],
          "name": "stdout"
        }
      ]
    }
  ]
}